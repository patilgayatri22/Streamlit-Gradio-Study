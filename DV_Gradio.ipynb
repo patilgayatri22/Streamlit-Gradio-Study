{
  "cells": [
    {
      "cell_type": "code",
      "execution_count": null,
      "metadata": {
        "id": "e6-wqji7-Z_e"
      },
      "outputs": [],
      "source": [
        "!pip install gradio"
      ]
    },
    {
      "cell_type": "code",
      "execution_count": null,
      "metadata": {
        "id": "1vHBrGKp-0Q7"
      },
      "outputs": [],
      "source": [
        "import numpy as np\n",
        "import pandas as pd\n",
        "import matplotlib.pyplot as plt\n",
        "import gradio as gr"
      ]
    },
    {
      "cell_type": "code",
      "execution_count": null,
      "metadata": {
        "id": "UgyqEyRB-3pb"
      },
      "outputs": [],
      "source": [
        "# Load the data and split into data and labels\n",
        "from sklearn.datasets import load_iris\n",
        "from sklearn.model_selection import train_test_split\n",
        "from sklearn.ensemble import RandomForestClassifier\n",
        "from sklearn.metrics import accuracy_score\n",
        "\n",
        "iris_dataset = load_iris()\n",
        "\n",
        "# We use only The 0'th and 1'st columns.\n",
        "# These correspond to sepal length and width.\n",
        "X = iris_dataset['data'][:, [0, 1]]\n",
        "y = iris_dataset['target']\n",
        "\n",
        "# Split into training and test sets\n",
        "X_train, X_test, y_train, y_test = train_test_split(X, y, random_state=42)\n",
        "\n",
        "# Import and train a machine learning model\n",
        "rf = RandomForestClassifier(random_state=42, n_estimators=100)\n",
        "rf.fit(X_train, y_train)\n",
        "\n",
        "# Predict on the test data\n",
        "y_pred = rf.predict(X_test)\n",
        "\n",
        "# Evaluate the model\n",
        "\n",
        "print(accuracy_score(y_test, y_pred))"
      ]
    },
    {
      "cell_type": "code",
      "execution_count": null,
      "metadata": {
        "id": "jClcZMUy_ljc"
      },
      "outputs": [],
      "source": [
        "def predict_flower(sepal_length, sepal_width):\n",
        "    \"\"\"\n",
        "    Predicts whether an Iris flower is a Versicolor, Virginica, or Setosa.\n",
        "\n",
        "    Args:\n",
        "        sepal_length (float): The flower's average sepal length in cm.\n",
        "        sepal_width (float): The flower's average sepal width in cm.\n",
        "\n",
        "    Returns:\n",
        "        str: \"Virginica\", \"Setosa\", or \"Versicolor\".\n",
        "    \"\"\"\n",
        "\n",
        "    # Reshape the input data for prediction\n",
        "    input_data = np.array([sepal_length, sepal_width]).reshape(1, -1)\n",
        "\n",
        "    # Get the prediction\n",
        "    prediction = rf.predict(input_data)\n",
        "\n",
        "    # Return the result\n",
        "    if prediction[0] == 0:\n",
        "        return \"Setosa\"\n",
        "    elif prediction[0] == 1:\n",
        "        return \"Versicolor\"\n",
        "    elif prediction[0] == 2:\n",
        "        return \"Virginica\"\n",
        "    else:\n",
        "        raise Exception"
      ]
    },
    {
      "cell_type": "code",
      "execution_count": null,
      "metadata": {
        "colab": {
          "background_save": true
        },
        "id": "fJKghs7-_05A"
      },
      "outputs": [],
      "source": [
        "# Set the minimum, maximum, and default values for the sliders\n",
        "# This is optional\n",
        "sl_min = X_train[:,0].min().round(2)\n",
        "sl_max = X_train[:,0].max().round(2)\n",
        "sl_default = X_train[:,0].mean().round(2)\n",
        "\n",
        "sw_min = X_train[:,1].min().round(2)\n",
        "sw_max = X_train[:,1].max().round(2)\n",
        "sw_default = X_train[:,1].mean().round(2)\n",
        "\n",
        "# Create the interface\n",
        "iface = gr.Interface(\n",
        "    fn=predict_flower,\n",
        "    inputs=[\n",
        "        gr.components.Slider(minimum=sl_min, maximum=sl_max,\n",
        "                             value=sl_default, label=\"Sepal length\"),\n",
        "        gr.components.Slider(minimum=sw_min, maximum=sw_max,\n",
        "                             value=sw_default, label=\"Sepal width\"),\n",
        "    ],\n",
        "    outputs=gr.components.Textbox(label=\"Prediction\"),\n",
        "    title=\"Flower Predictor\",\n",
        "    description=\"\"\"Enter your measurement of Sepal Length and Sepal Width to\n",
        "    predict the class of flower.\n",
        "    Data source: Iris Flower Dataset; Model: Random Forest Classifier\"\"\",\n",
        ")\n",
        "\n",
        "# Launch the interface\n",
        "iface.launch(share=True,debug=True)"
      ]
    }
  ],
  "metadata": {
    "colab": {
      "provenance": []
    },
    "kernelspec": {
      "display_name": "Python 3",
      "name": "python3"
    },
    "language_info": {
      "name": "python"
    }
  },
  "nbformat": 4,
  "nbformat_minor": 0
}