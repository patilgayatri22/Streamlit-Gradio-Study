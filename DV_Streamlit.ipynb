{
  "nbformat": 4,
  "nbformat_minor": 0,
  "metadata": {
    "colab": {
      "provenance": []
    },
    "kernelspec": {
      "name": "python3",
      "display_name": "Python 3"
    },
    "language_info": {
      "name": "python"
    }
  },
  "cells": [
    {
      "cell_type": "code",
      "execution_count": null,
      "metadata": {
        "id": "Q6AilbSxBWsA"
      },
      "outputs": [],
      "source": [
        "!pip install streamlit"
      ]
    },
    {
      "cell_type": "code",
      "source": [
        "!pip install streamlit pyngrok"
      ],
      "metadata": {
        "id": "DnRlzLoOkRAq"
      },
      "execution_count": null,
      "outputs": []
    },
    {
      "cell_type": "code",
      "source": [
        "\n",
        "\n",
        "# Create the Streamlit app\n",
        "%%writefile streamapp.py\n",
        "import streamlit as st\n",
        "import datetime\n",
        "\n",
        "st.title(\"Form for the Users\")\n",
        "st.write(\"Here, you can answer some questions in this form.\")\n",
        "user_id = st.text_input(\"ID\", value=\"Your ID\", max_chars=7)\n",
        "info = st.text_area(\"Share some information about you\", \"Put information here\", help='You can write about your hobbies or family')\n",
        "age = st.number_input(\"Age\", min_value=18, max_value=100, step=1)\n",
        "birth_date = st.date_input(\"Date of Birth\", min_value=datetime.date(1921, 1, 1), max_value=datetime.date(2003, 12, 31))\n",
        "smoke = st.checkbox(\"Do you smoke?\")\n",
        "genre = st.radio(\"Which movie genre do you like?\", options=['horror', 'adventure', 'romantic'])\n",
        "weight = st.slider(\"Choose your weight\", min_value=40., max_value=150., step=0.5)\n",
        "physical_form = st.selectbox(\"Select level of your physical condition\", options=[\"Bad\", \"Normal\", \"Good\"])\n",
        "colors = st.multiselect('What are your favorite colors', options=['Green', 'Yellow', 'Red', 'Blue', 'Pink'])\n",
        "\n",
        "image = st.file_uploader(\"Upload your photo\", type=['jpg', 'png'])\n",
        "\n",
        "col1, col2 = st.columns(2)\n",
        "with col1:\n",
        "    st.image(\"https://static.streamlit.io/examples/cat.jpg\", width=300)\n",
        "    st.button(\"Like cats\")\n",
        "with col2:\n",
        "    st.image(\"https://static.streamlit.io/examples/dog.jpg\", width=355)\n",
        "    st.button(\"Like dogs\")\n",
        "\n",
        "submit = st.button(\"Submit\")\n",
        "\n",
        "if submit:\n",
        "    st.write(\"You submitted the form\")\n",
        "\n",
        "click = st.sidebar.button('Click me!')\n",
        "if click:\n",
        "    st.sidebar.write(\"You clicked the button\")\n",
        "\n",
        "# Run the Streamlit app with ngrok\n",
        "from pyngrok import ngrok\n",
        "\n",
        "# Set the port for Streaml\n",
        "port = 8501\n",
        "ngrok.set_auth_token(\"2o8LdLIbhJ3sJB9gHxUx7NfKosA_3dLPu5sh55KSwnLbuNJqN\")\n",
        "# Open a ngrok tunnel\n",
        "public_url = ngrok.connect(port)\n",
        "print(f\"Streamlit app is live at: {public_url}\")\n",
        "\n",
        "\n",
        "\n"
      ],
      "metadata": {
        "id": "q7_bmXg1hZa3"
      },
      "execution_count": null,
      "outputs": []
    },
    {
      "cell_type": "code",
      "source": [
        "!npm install localtunnel"
      ],
      "metadata": {
        "id": "5FD256pVmPmL"
      },
      "execution_count": null,
      "outputs": []
    },
    {
      "cell_type": "code",
      "source": [
        "!streamlit run streamapp.py &>/content/logs.txt & npx localtunnel --port 8501 & curl ipv4.icanhazip.com"
      ],
      "metadata": {
        "id": "SD9uQ0Komh-U"
      },
      "execution_count": null,
      "outputs": []
    },
    {
      "cell_type": "code",
      "source": [
        "\n",
        "#cross platform code of streamlit app on gradio\n",
        "import gradio as gr\n",
        "import datetime\n",
        "\n",
        "# Define the function to process form inputs\n",
        "def submit_form(user_id, info, age, birth_date, smoke, genre, weight, physical_form, colors, image):\n",
        "    response = {\n",
        "        \"ID\": user_id,\n",
        "        \"Information\": info,\n",
        "        \"Age\": age,\n",
        "        \"Date of Birth\": birth_date,\n",
        "        \"Smoke\": \"Yes\" if smoke else \"No\",\n",
        "        \"Favorite Genre\": genre,\n",
        "        \"Weight\": weight,\n",
        "        \"Physical Condition\": physical_form,\n",
        "        \"Favorite Colors\": \", \".join(colors) if colors else \"None\",\n",
        "    }\n",
        "    # If an image is uploaded, display it\n",
        "    return response, image\n",
        "\n",
        "# Define Gradio interface components\n",
        "with gr.Blocks() as demo:\n",
        "    gr.Markdown(\"# User Form\")\n",
        "\n",
        "    with gr.Row():\n",
        "        user_id = gr.Textbox(label=\"ID\", placeholder=\"Your ID\", max_lines=1)\n",
        "        age = gr.Slider(label=\"Age\", minimum=18, maximum=100, step=1, value=25)\n",
        "\n",
        "    info = gr.Textbox(label=\"Information\", placeholder=\"Share some information about you\", lines=3)\n",
        "    birth_date = gr.Textbox(label=\"Date of Birth (YYYY-MM-DD)\", placeholder=\"YYYY-MM-DD\", value=\"2000-01-01\")\n",
        "    smoke = gr.Checkbox(label=\"Do you smoke?\")\n",
        "    genre = gr.Radio(label=\"Which movie genre do you like?\", choices=['Horror', 'Adventure', 'Romantic'])\n",
        "    weight = gr.Slider(label=\"Weight\", minimum=40, maximum=150, step=0.5, value=70.0)\n",
        "    physical_form = gr.Dropdown(label=\"Physical Condition\", choices=[\"Bad\", \"Normal\", \"Good\"])\n",
        "    colors = gr.CheckboxGroup(label=\"Favorite Colors\", choices=['Green', 'Yellow', 'Red', 'Blue', 'Pink'])\n",
        "    image = gr.Image(label=\"Upload your photo\", type=\"pil\")\n",
        "\n",
        "    # Submit button and output display\n",
        "    submit_button = gr.Button(\"Submit\")\n",
        "    output_text = gr.Json()\n",
        "    output_image = gr.Image(label=\"Uploaded Photo\")\n",
        "\n",
        "    submit_button.click(\n",
        "        submit_form,\n",
        "        inputs=[user_id, info, age, birth_date, smoke, genre, weight, physical_form, colors, image],\n",
        "        outputs=[output_text, output_image]\n",
        "    )\n",
        "\n",
        "\n",
        "# Launch the app\n",
        "demo.launch()"
      ],
      "metadata": {
        "id": "0pbT2WM82AQg"
      },
      "execution_count": null,
      "outputs": []
    },
    {
      "cell_type": "code",
      "source": [
        "#cross platform gradio app into streamlit\n",
        "%%writefile app.py\n",
        "import streamlit as st\n",
        "import numpy as np\n",
        "import pandas as pd\n",
        "from sklearn.datasets import load_iris\n",
        "from sklearn.model_selection import train_test_split\n",
        "from sklearn.ensemble import RandomForestClassifier\n",
        "from sklearn.metrics import accuracy_score\n",
        "\n",
        "# Load the Iris dataset and train the model\n",
        "iris_dataset = load_iris()\n",
        "X = iris_dataset['data'][:, [0, 1]]  # Use only sepal length and width for prediction\n",
        "y = iris_dataset['target']\n",
        "\n",
        "# Split data into training and test sets\n",
        "X_train, X_test, y_train, y_test = train_test_split(X, y, random_state=42)\n",
        "\n",
        "# Train the Random Forest Classifier\n",
        "rf = RandomForestClassifier(random_state=42, n_estimators=100)\n",
        "rf.fit(X_train, y_train)\n",
        "\n",
        "# Define the prediction function\n",
        "def predict_flower(sepal_length, sepal_width):\n",
        "    input_data = np.array([sepal_length, sepal_width]).reshape(1, -1)\n",
        "    prediction = rf.predict(input_data)\n",
        "    if prediction[0] == 0:\n",
        "        return \"Setosa\"\n",
        "    elif prediction[0] == 1:\n",
        "        return \"Versicolor\"\n",
        "    else:\n",
        "        return \"Virginica\"\n",
        "\n",
        "# Streamlit App\n",
        "st.title(\"Flower Predictor\")\n",
        "st.write(\"Enter your measurement of Sepal Length and Sepal Width to predict the class of flower.\")\n",
        "\n",
        "# Sliders for input\n",
        "sl_min, sl_max = X_train[:,0].min().round(2), X_train[:,0].max().round(2)\n",
        "sw_min, sw_max = X_train[:,1].min().round(2), X_train[:,1].max().round(2)\n",
        "\n",
        "sepal_length = st.slider(\"Sepal length\", min_value=sl_min, max_value=sl_max, value=X_train[:,0].mean().round(2))\n",
        "sepal_width = st.slider(\"Sepal width\", min_value=sw_min, max_value=sw_max, value=X_train[:,1].mean().round(2))\n",
        "\n",
        "# Prediction\n",
        "if st.button(\"Predict\"):\n",
        "    prediction = predict_flower(sepal_length, sepal_width)\n",
        "    st.write(f\"Prediction: **{prediction}**\")\n",
        "\n",
        "\n",
        "# Run the Streamlit app with ngrok\n",
        "from pyngrok import ngrok\n",
        "\n",
        "# Set the port for Streamlit\n",
        "port = 8501\n",
        "ngrok.set_auth_token(\"2o8LdLIbhJ3sJB9gHxUx7NfKosA_3dLPu5sh55KSwnLbuNJqN\")\n",
        "# Open a ngrok tunnel\n",
        "public_url = ngrok.connect(port)\n",
        "print(f\"Streamlit app is live at: {public_url}\")"
      ],
      "metadata": {
        "colab": {
          "base_uri": "https://localhost:8080/"
        },
        "id": "m5pjLW4K5OTs",
        "outputId": "956584f3-bef6-49d7-b762-835ce8357299"
      },
      "execution_count": null,
      "outputs": [
        {
          "output_type": "stream",
          "name": "stdout",
          "text": [
            "Overwriting app.py\n"
          ]
        }
      ]
    },
    {
      "cell_type": "code",
      "source": [
        "!streamlit run app.py &>/content/logs.txt & npx localtunnel --port 8501 & curl ipv4.icanhazip.com"
      ],
      "metadata": {
        "id": "wq-rfvQo5d3Q"
      },
      "execution_count": null,
      "outputs": []
    }
  ]
}